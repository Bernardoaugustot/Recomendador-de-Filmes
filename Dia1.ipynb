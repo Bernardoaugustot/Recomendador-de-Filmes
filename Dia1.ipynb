{
 "cells": [
  {
   "cell_type": "markdown",
   "metadata": {},
   "source": [
    "# Dia 1\n",
    "Vamos lá, verificar o basico par ao inicio do projeto.\n",
    "Ver quais bibliotecas e metodos vamos usar.\n",
    "Depuração vamos Usar o Pandas.\n",
    "Interface vamos usar o Django.\n",
    "    Referencia Basica de Django: https://www.youtube.com/watch?v=-m5ywU8SW9E"
   ]
  },
  {
   "cell_type": "markdown",
   "metadata": {},
   "source": [
    "Django não é tão complicado mesmo sendo muito verboso, talvez seja necessario 2 dias, mas com uma marcha pesada podemso fazer em 1 dia."
   ]
  },
  {
   "cell_type": "markdown",
   "metadata": {},
   "source": [
    "Vamos Ver o que encontramos enquanto vasculhamos nosso data Set\n"
   ]
  },
  {
   "cell_type": "code",
   "execution_count": 3,
   "metadata": {},
   "outputs": [
    {
     "name": "stdout",
     "output_type": "stream",
     "text": [
      "['nconst', 'primaryName', 'birthYear', 'deathYear', 'primaryProfession', 'knownForTitles']\n",
      "['nm0000001', 'Fred Astaire', '1899', '1987', 'soundtrack,actor,miscellaneous', 'tt0072308,tt0031983,tt0053137,tt0050419']\n",
      "['nm0000002', 'Lauren Bacall', '1924', '2014', 'actress,soundtrack', 'tt0037382,tt0075213,tt0038355,tt0117057']\n",
      "['nm0000003', 'Brigitte Bardot', '1934', '\\\\N', 'actress,soundtrack,music_department', 'tt0057345,tt0049189,tt0054452,tt0056404']\n",
      "['nm0000004', 'John Belushi', '1949', '1982', 'actor,soundtrack,writer', 'tt0072562,tt0077975,tt0078723,tt0080455']\n",
      "['nm0000005', 'Ingmar Bergman', '1918', '2007', 'writer,director,actor', 'tt0050976,tt0050986,tt0069467,tt0083922']\n",
      "['nm0000006', 'Ingrid Bergman', '1915', '1982', 'actress,soundtrack,producer', 'tt0034583,tt0038787,tt0038109,tt0036855']\n",
      "['nm0000007', 'Humphrey Bogart', '1899', '1957', 'actor,soundtrack,producer', 'tt0037382,tt0043265,tt0034583,tt0042593']\n",
      "['nm0000008', 'Marlon Brando', '1924', '2004', 'actor,soundtrack,director', 'tt0068646,tt0047296,tt0078788,tt0070849']\n",
      "['nm0000009', 'Richard Burton', '1925', '1984', 'actor,soundtrack,producer', 'tt0061184,tt0059749,tt0057877,tt0087803']\n"
     ]
    }
   ],
   "source": [
    "import csv\n",
    "\n",
    "caminho_do_arquivo = \"data/data.tsv\"\n",
    "\n",
    "# Lista para armazenar os dados\n",
    "dados = []\n",
    "\n",
    "# Contador para controlar o número de linhas lidas\n",
    "contador_linhas = 0\n",
    "\n",
    "# Abre o arquivo no modo de leitura\n",
    "with open(caminho_do_arquivo, 'r', newline='', encoding='utf-8') as arquivo_tsv:\n",
    "    leitor_tsv = csv.reader(arquivo_tsv, delimiter='\\t')  # Definindo o delimitador como tabulação (\\t)\n",
    "    \n",
    "    # Itera sobre cada linha do arquivo\n",
    "    for linha in leitor_tsv:\n",
    "        dados.append(linha)\n",
    "        contador_linhas += 1\n",
    "        \n",
    "        # Se o contador atingir 10, interrompemos a leitura do arquivo\n",
    "        if contador_linhas >= 10:\n",
    "            break\n",
    "\n",
    "# Agora a variável 'dados' contém apenas as 10 primeiras linhas do arquivo .tsv.\n",
    "# Você pode acessar os elementos específicos usando a notação de índices, por exemplo:\n",
    "# dados[0] irá fornecer a primeira linha do arquivo .tsv.\n",
    "\n",
    "# Exemplo de impressão dos dados:\n",
    "for linha in dados:\n",
    "    print(linha)\n"
   ]
  },
  {
   "cell_type": "markdown",
   "metadata": {},
   "source": [
    "# ! Extrair os dados do zip ❌\n",
    "Eles estão todos com o mesmo nome precisam ser extraidos"
   ]
  },
  {
   "cell_type": "code",
   "execution_count": 8,
   "metadata": {},
   "outputs": [
    {
     "ename": "NotRarFile",
     "evalue": "Not a RAR file",
     "output_type": "error",
     "traceback": [
      "\u001b[1;31m---------------------------------------------------------------------------\u001b[0m",
      "\u001b[1;31mNotRarFile\u001b[0m                                Traceback (most recent call last)",
      "Cell \u001b[1;32mIn[8], line 10\u001b[0m\n\u001b[0;32m      7\u001b[0m dados_lidos \u001b[39m=\u001b[39m []\n\u001b[0;32m      9\u001b[0m \u001b[39m# Abre o arquivo WinRAR\u001b[39;00m\n\u001b[1;32m---> 10\u001b[0m \u001b[39mwith\u001b[39;00m RarFile(caminho_do_arquivo_rar, \u001b[39m'\u001b[39;49m\u001b[39mr\u001b[39;49m\u001b[39m'\u001b[39;49m) \u001b[39mas\u001b[39;00m arquivo_rar:\n\u001b[0;32m     11\u001b[0m     \u001b[39m# Verifica se o arquivo CSV está no WinRAR\u001b[39;00m\n\u001b[0;32m     12\u001b[0m     \u001b[39mif\u001b[39;00m nome_do_arquivo_csv \u001b[39min\u001b[39;00m arquivo_rar\u001b[39m.\u001b[39mnamelist():\n\u001b[0;32m     13\u001b[0m         \u001b[39m# Extrai o arquivo CSV para uma pasta temporária ou para o diretório atual\u001b[39;00m\n\u001b[0;32m     14\u001b[0m         arquivo_rar\u001b[39m.\u001b[39mextract(nome_do_arquivo_csv)\n",
      "File \u001b[1;32mc:\\Users\\berna\\AppData\\Local\\Programs\\Python\\Python310\\lib\\site-packages\\rarfile.py:689\u001b[0m, in \u001b[0;36mRarFile.__init__\u001b[1;34m(self, file, mode, charset, info_callback, crc_check, errors)\u001b[0m\n\u001b[0;32m    686\u001b[0m \u001b[39mif\u001b[39;00m mode \u001b[39m!=\u001b[39m \u001b[39m\"\u001b[39m\u001b[39mr\u001b[39m\u001b[39m\"\u001b[39m:\n\u001b[0;32m    687\u001b[0m     \u001b[39mraise\u001b[39;00m \u001b[39mNotImplementedError\u001b[39;00m(\u001b[39m\"\u001b[39m\u001b[39mRarFile supports only mode=r\u001b[39m\u001b[39m\"\u001b[39m)\n\u001b[1;32m--> 689\u001b[0m \u001b[39mself\u001b[39;49m\u001b[39m.\u001b[39;49m_parse()\n",
      "File \u001b[1;32mc:\\Users\\berna\\AppData\\Local\\Programs\\Python\\Python310\\lib\\site-packages\\rarfile.py:891\u001b[0m, in \u001b[0;36mRarFile._parse\u001b[1;34m(self)\u001b[0m\n\u001b[0;32m    889\u001b[0m     \u001b[39mself\u001b[39m\u001b[39m.\u001b[39m_file_parser \u001b[39m=\u001b[39m p5  \u001b[39m# noqa\u001b[39;00m\n\u001b[0;32m    890\u001b[0m \u001b[39melse\u001b[39;00m:\n\u001b[1;32m--> 891\u001b[0m     \u001b[39mraise\u001b[39;00m NotRarFile(\u001b[39m\"\u001b[39m\u001b[39mNot a RAR file\u001b[39m\u001b[39m\"\u001b[39m)\n\u001b[0;32m    893\u001b[0m \u001b[39mself\u001b[39m\u001b[39m.\u001b[39m_file_parser\u001b[39m.\u001b[39mparse()\n\u001b[0;32m    894\u001b[0m \u001b[39mself\u001b[39m\u001b[39m.\u001b[39mcomment \u001b[39m=\u001b[39m \u001b[39mself\u001b[39m\u001b[39m.\u001b[39m_file_parser\u001b[39m.\u001b[39mcomment\n",
      "\u001b[1;31mNotRarFile\u001b[0m: Not a RAR file"
     ]
    }
   ],
   "source": [
    "from rarfile import RarFile  \n",
    "import csv\n",
    "\n",
    "caminho_do_arquivo_rar = 'data/name.basics.tsv.gz'\n",
    "nome_do_arquivo_csv = \"data.tsv\"\n",
    "\n",
    "dados_lidos = []\n",
    "\n",
    "# Abre o arquivo WinRAR\n",
    "with RarFile(caminho_do_arquivo_rar, 'r') as arquivo_rar:\n",
    "    # Verifica se o arquivo CSV está no WinRAR\n",
    "    if nome_do_arquivo_csv in arquivo_rar.namelist():\n",
    "        # Extrai o arquivo CSV para uma pasta temporária ou para o diretório atual\n",
    "        arquivo_rar.extract(nome_do_arquivo_csv)\n",
    "        \n",
    "        # Agora podemos ler o arquivo CSV normalmente\n",
    "        with open(nome_do_arquivo_csv, 'r', newline='', encoding='utf-8') as arquivo_csv:\n",
    "            leitor_csv = csv.reader(arquivo_csv)\n",
    "            \n",
    "            # Armazena os dados lidos em uma lista\n",
    "            dados_lidos = [linha for linha in leitor_csv]\n",
    "    else:\n",
    "        print(f\"O arquivo '{nome_do_arquivo_csv}' não foi encontrado no WinRAR.\")\n"
   ]
  },
  {
   "cell_type": "code",
   "execution_count": null,
   "metadata": {},
   "outputs": [],
   "source": []
  },
  {
   "cell_type": "markdown",
   "metadata": {},
   "source": [
    "# Trabalhando com os Dados"
   ]
  },
  {
   "cell_type": "markdown",
   "metadata": {},
   "source": [
    "## Chamar um filmes dos dados. ❌\n",
    "qualquer filme"
   ]
  },
  {
   "cell_type": "code",
   "execution_count": 9,
   "metadata": {},
   "outputs": [
    {
     "name": "stdout",
     "output_type": "stream",
     "text": [
      "['nconst', 'primaryName', 'birthYear', 'deathYear', 'primaryProfession', 'knownForTitles']\n",
      "['nm0000001', 'Fred Astaire', '1899', '1987', 'soundtrack,actor,miscellaneous', 'tt0072308,tt0031983,tt0053137,tt0050419']\n",
      "['nm0000002', 'Lauren Bacall', '1924', '2014', 'actress,soundtrack', 'tt0037382,tt0075213,tt0038355,tt0117057']\n",
      "['nm0000003', 'Brigitte Bardot', '1934', '\\\\N', 'actress,soundtrack,music_department', 'tt0057345,tt0049189,tt0054452,tt0056404']\n",
      "['nm0000004', 'John Belushi', '1949', '1982', 'actor,soundtrack,writer', 'tt0072562,tt0077975,tt0078723,tt0080455']\n",
      "['nm0000005', 'Ingmar Bergman', '1918', '2007', 'writer,director,actor', 'tt0050976,tt0050986,tt0069467,tt0083922']\n",
      "['nm0000006', 'Ingrid Bergman', '1915', '1982', 'actress,soundtrack,producer', 'tt0034583,tt0038787,tt0038109,tt0036855']\n",
      "['nm0000007', 'Humphrey Bogart', '1899', '1957', 'actor,soundtrack,producer', 'tt0037382,tt0043265,tt0034583,tt0042593']\n",
      "['nm0000008', 'Marlon Brando', '1924', '2004', 'actor,soundtrack,director', 'tt0068646,tt0047296,tt0078788,tt0070849']\n",
      "['nm0000009', 'Richard Burton', '1925', '1984', 'actor,soundtrack,producer', 'tt0061184,tt0059749,tt0057877,tt0087803']\n"
     ]
    }
   ],
   "source": [
    "import csv\n",
    "\n",
    "#caminho_do_arquivo = \"data/name.basics.tsv\"\n",
    "caminho_do_arquivo =  \"data/title.basics.tsv\"\n",
    "\n",
    "# Lista para armazenar os dados\n",
    "dados = []\n",
    "\n",
    "# Contador para controlar o número de linhas lidas\n",
    "contador_linhas = 0\n",
    "\n",
    "# Abre o arquivo no modo de leitura\n",
    "with open(caminho_do_arquivo, 'r', newline='', encoding='utf-8') as arquivo_tsv:\n",
    "    leitor_tsv = csv.reader(arquivo_tsv, delimiter='\\t')  # Definindo o delimitador como tabulação (\\t)\n",
    "    \n",
    "    # Itera sobre cada linha do arquivo\n",
    "    for linha in leitor_tsv:\n",
    "        dados.append(linha)\n",
    "        contador_linhas += 1\n",
    "        \n",
    "        # Se o contador atingir 10, interrompemos a leitura do arquivo\n",
    "        if contador_linhas >= 10:\n",
    "            break\n",
    "\n",
    "# Agora a variável 'dados' contém apenas as 10 primeiras linhas do arquivo .tsv.\n",
    "# Você pode acessar os elementos específicos usando a notação de índices, por exemplo:\n",
    "# dados[0] irá fornecer a primeira linha do arquivo .tsv.\n",
    "\n",
    "# Exemplo de impressão dos dados:\n",
    "for linha in dados:\n",
    "    print(linha)\n"
   ]
  }
 ],
 "metadata": {
  "kernelspec": {
   "display_name": "Python 3",
   "language": "python",
   "name": "python3"
  },
  "language_info": {
   "codemirror_mode": {
    "name": "ipython",
    "version": 3
   },
   "file_extension": ".py",
   "mimetype": "text/x-python",
   "name": "python",
   "nbconvert_exporter": "python",
   "pygments_lexer": "ipython3",
   "version": "3.10.7"
  },
  "orig_nbformat": 4
 },
 "nbformat": 4,
 "nbformat_minor": 2
}
