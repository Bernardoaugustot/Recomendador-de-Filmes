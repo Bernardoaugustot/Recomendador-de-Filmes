{
 "cells": [
  {
   "cell_type": "markdown",
   "metadata": {},
   "source": [
    "# Dia 1\n",
    "Vamos lá, verificar o basico par ao inicio do projeto.\n",
    "Ver quais bibliotecas e metodos vamos usar.\n",
    "Depuração vamos Usar o Pandas.\n",
    "Interface vamos usar o Django.\n",
    "    Referencia Basica de Django: https://www.youtube.com/watch?v=-m5ywU8SW9E"
   ]
  },
  {
   "cell_type": "markdown",
   "metadata": {},
   "source": [
    "Django não é tão complicado mesmo sendo muito verboso, talvez seja necessario 2 dias, mas com uma marcha pesada podemso fazer em 1 dia."
   ]
  },
  {
   "cell_type": "markdown",
   "metadata": {},
   "source": [
    "Vamos Ver o que encontramos enquanto vasculhamos nosso data Set\n"
   ]
  },
  {
   "cell_type": "code",
   "execution_count": null,
   "metadata": {},
   "outputs": [],
   "source": [
    "import csv\n",
    "\n",
    "caminho_do_arquivo = \"data/data.tsv\"\n",
    "\n",
    "# Lista para armazenar os dados\n",
    "dados = []\n",
    "\n",
    "# Contador para controlar o número de linhas lidas\n",
    "contador_linhas = 0\n",
    "\n",
    "# Abre o arquivo no modo de leitura\n",
    "with open(caminho_do_arquivo, 'r', newline='', encoding='utf-8') as arquivo_tsv:\n",
    "    leitor_tsv = csv.reader(arquivo_tsv, delimiter='\\t')  # Definindo o delimitador como tabulação (\\t)\n",
    "    \n",
    "    # Itera sobre cada linha do arquivo\n",
    "    for linha in leitor_tsv:\n",
    "        dados.append(linha)\n",
    "        contador_linhas += 1\n",
    "        \n",
    "        # Se o contador atingir 10, interrompemos a leitura do arquivo\n",
    "        if contador_linhas >= 10:\n",
    "            break\n",
    "\n",
    "# Agora a variável 'dados' contém apenas as 10 primeiras linhas do arquivo .tsv.\n",
    "# Você pode acessar os elementos específicos usando a notação de índices, por exemplo:\n",
    "# dados[0] irá fornecer a primeira linha do arquivo .tsv.\n",
    "\n",
    "# Exemplo de impressão dos dados:\n",
    "for linha in dados:\n",
    "    print(linha)\n"
   ]
  }
 ],
 "metadata": {
  "kernelspec": {
   "display_name": "Python 3",
   "language": "python",
   "name": "python3"
  },
  "language_info": {
   "codemirror_mode": {
    "name": "ipython",
    "version": 3
   },
   "file_extension": ".py",
   "mimetype": "text/x-python",
   "name": "python",
   "nbconvert_exporter": "python",
   "pygments_lexer": "ipython3",
   "version": "3.10.7"
  },
  "orig_nbformat": 4
 },
 "nbformat": 4,
 "nbformat_minor": 2
}
