{
 "cells": [
  {
   "cell_type": "markdown",
   "metadata": {},
   "source": [
    "# Fase 2 - Vamos Pegar os enfeites para apresentar\n",
    "Alvo 1: Imagem\n",
    "Alvo 2: Descrição.\n",
    "fazer isso atravez de Webb script parece minha unica opção.\n",
    "vamos usar o id unico dos filmes para acessar diretamente as paginas."
   ]
  },
  {
   "cell_type": "code",
   "execution_count": 4,
   "metadata": {},
   "outputs": [],
   "source": [
    "import pandas as pd\n",
    "caminho_do_arquivo_tsv = \"top_100_sorted.csv\"\n",
    "\n",
    "df = pd.read_csv(caminho_do_arquivo_tsv)\n",
    "\n",
    "# Exibe as primeiras linhas do DataFrame\n"
   ]
  },
  {
   "cell_type": "code",
   "execution_count": 32,
   "metadata": {},
   "outputs": [
    {
     "data": {
      "text/html": [
       "<div>\n",
       "<style scoped>\n",
       "    .dataframe tbody tr th:only-of-type {\n",
       "        vertical-align: middle;\n",
       "    }\n",
       "\n",
       "    .dataframe tbody tr th {\n",
       "        vertical-align: top;\n",
       "    }\n",
       "\n",
       "    .dataframe thead th {\n",
       "        text-align: right;\n",
       "    }\n",
       "</style>\n",
       "<table border=\"1\" class=\"dataframe\">\n",
       "  <thead>\n",
       "    <tr style=\"text-align: right;\">\n",
       "      <th></th>\n",
       "      <th>tconst</th>\n",
       "      <th>titleType</th>\n",
       "      <th>primaryTitle</th>\n",
       "      <th>originalTitle</th>\n",
       "      <th>startYear</th>\n",
       "      <th>genres</th>\n",
       "      <th>averageRating</th>\n",
       "      <th>numVotes</th>\n",
       "      <th>relevancia</th>\n",
       "      <th>descrption</th>\n",
       "      <th>img_link</th>\n",
       "    </tr>\n",
       "  </thead>\n",
       "  <tbody>\n",
       "    <tr>\n",
       "      <th>0</th>\n",
       "      <td>tt0111161</td>\n",
       "      <td>movie</td>\n",
       "      <td>The Shawshank Redemption</td>\n",
       "      <td>The Shawshank Redemption</td>\n",
       "      <td>1994</td>\n",
       "      <td>Drama</td>\n",
       "      <td>9.3</td>\n",
       "      <td>2774751</td>\n",
       "      <td>25805184.3</td>\n",
       "      <td>Dois homens presos se reúnem ao longo de vário...</td>\n",
       "      <td>https://m.media-amazon.com/images/M/MV5BNjQ2ND...</td>\n",
       "    </tr>\n",
       "    <tr>\n",
       "      <th>1</th>\n",
       "      <td>tt0468569</td>\n",
       "      <td>movie</td>\n",
       "      <td>The Dark Knight</td>\n",
       "      <td>The Dark Knight</td>\n",
       "      <td>2008</td>\n",
       "      <td>Action,Crime,Drama</td>\n",
       "      <td>9.0</td>\n",
       "      <td>2750724</td>\n",
       "      <td>24756516.0</td>\n",
       "      <td>Quando a ameaça conhecida como O Coringa surge...</td>\n",
       "      <td>https://m.media-amazon.com/images/M/MV5BNWJkYW...</td>\n",
       "    </tr>\n",
       "    <tr>\n",
       "      <th>2</th>\n",
       "      <td>tt1375666</td>\n",
       "      <td>movie</td>\n",
       "      <td>Inception</td>\n",
       "      <td>Inception</td>\n",
       "      <td>2010</td>\n",
       "      <td>Action,Adventure,Sci-Fi</td>\n",
       "      <td>8.8</td>\n",
       "      <td>2441512</td>\n",
       "      <td>21485305.6</td>\n",
       "      <td>Um ladrão que rouba segredos corporativos atra...</td>\n",
       "      <td>https://m.media-amazon.com/images/M/MV5BMTQ1Zm...</td>\n",
       "    </tr>\n",
       "    <tr>\n",
       "      <th>3</th>\n",
       "      <td>tt0137523</td>\n",
       "      <td>movie</td>\n",
       "      <td>Fight Club</td>\n",
       "      <td>Fight Club</td>\n",
       "      <td>1999</td>\n",
       "      <td>Drama</td>\n",
       "      <td>8.8</td>\n",
       "      <td>2210376</td>\n",
       "      <td>19451308.8</td>\n",
       "      <td>Um trabalhador de escritório e um fabricante d...</td>\n",
       "      <td>https://m.media-amazon.com/images/M/MV5BMTNmYz...</td>\n",
       "    </tr>\n",
       "    <tr>\n",
       "      <th>4</th>\n",
       "      <td>tt0109830</td>\n",
       "      <td>movie</td>\n",
       "      <td>Forrest Gump</td>\n",
       "      <td>Forrest Gump</td>\n",
       "      <td>1994</td>\n",
       "      <td>Drama,Romance</td>\n",
       "      <td>8.8</td>\n",
       "      <td>2157949</td>\n",
       "      <td>18989951.2</td>\n",
       "      <td>Os governos dos presidentes Kennedy e Johnson,...</td>\n",
       "      <td>https://m.media-amazon.com/images/M/MV5BYzQyMW...</td>\n",
       "    </tr>\n",
       "  </tbody>\n",
       "</table>\n",
       "</div>"
      ],
      "text/plain": [
       "      tconst titleType              primaryTitle             originalTitle  \\\n",
       "0  tt0111161     movie  The Shawshank Redemption  The Shawshank Redemption   \n",
       "1  tt0468569     movie           The Dark Knight           The Dark Knight   \n",
       "2  tt1375666     movie                 Inception                 Inception   \n",
       "3  tt0137523     movie                Fight Club                Fight Club   \n",
       "4  tt0109830     movie              Forrest Gump              Forrest Gump   \n",
       "\n",
       "   startYear                   genres  averageRating  numVotes  relevancia  \\\n",
       "0       1994                    Drama            9.3   2774751  25805184.3   \n",
       "1       2008       Action,Crime,Drama            9.0   2750724  24756516.0   \n",
       "2       2010  Action,Adventure,Sci-Fi            8.8   2441512  21485305.6   \n",
       "3       1999                    Drama            8.8   2210376  19451308.8   \n",
       "4       1994            Drama,Romance            8.8   2157949  18989951.2   \n",
       "\n",
       "                                          descrption  \\\n",
       "0  Dois homens presos se reúnem ao longo de vário...   \n",
       "1  Quando a ameaça conhecida como O Coringa surge...   \n",
       "2  Um ladrão que rouba segredos corporativos atra...   \n",
       "3  Um trabalhador de escritório e um fabricante d...   \n",
       "4  Os governos dos presidentes Kennedy e Johnson,...   \n",
       "\n",
       "                                            img_link  \n",
       "0  https://m.media-amazon.com/images/M/MV5BNjQ2ND...  \n",
       "1  https://m.media-amazon.com/images/M/MV5BNWJkYW...  \n",
       "2  https://m.media-amazon.com/images/M/MV5BMTQ1Zm...  \n",
       "3  https://m.media-amazon.com/images/M/MV5BMTNmYz...  \n",
       "4  https://m.media-amazon.com/images/M/MV5BYzQyMW...  "
      ]
     },
     "execution_count": 32,
     "metadata": {},
     "output_type": "execute_result"
    }
   ],
   "source": [
    "df.head()"
   ]
  },
  {
   "cell_type": "code",
   "execution_count": 6,
   "metadata": {},
   "outputs": [],
   "source": [
    "from selenium import webdriver\n",
    "from selenium.webdriver.chrome.options import Options\n",
    "from selenium.webdriver.common.by import By\n",
    "\n",
    "\n"
   ]
  },
  {
   "cell_type": "code",
   "execution_count": 7,
   "metadata": {},
   "outputs": [
    {
     "name": "stderr",
     "output_type": "stream",
     "text": [
      "C:\\Users\\berna\\AppData\\Local\\Temp\\ipykernel_11660\\3411045696.py:3: DeprecationWarning: executable_path has been deprecated, please pass in a Service object\n",
      "  driver = webdriver.Chrome(executable_path= './ignore/chromedriver.exe', options=chrome_options)\n"
     ]
    }
   ],
   "source": [
    "chrome_options = Options()\n",
    "#chrome_options.add_argument(\"--headless\")\n",
    "driver = webdriver.Chrome(executable_path= './ignore/chromedriver.exe', options=chrome_options)"
   ]
  },
  {
   "cell_type": "code",
   "execution_count": 22,
   "metadata": {},
   "outputs": [],
   "source": [
    "#Criar coluna description e Imagem\n",
    "descrption = 'VALOR VAZIO'\n",
    "img_link = \"https://m.media-amazon.com/images/M/MV5BOWExYjI5MzktNTRhNi00Nzg2LThkZmQtYWVkYjRlYWI2MDQ4XkEyXkFqcGdeQXVyNTAyODkwOQ@@._V1_.jpg\"\n",
    "\n",
    "\n",
    "\n",
    "df['descrption'] = descrption\n",
    "df['img_link']= img_link"
   ]
  },
  {
   "cell_type": "code",
   "execution_count": 30,
   "metadata": {},
   "outputs": [
    {
     "name": "stderr",
     "output_type": "stream",
     "text": [
      "C:\\Users\\berna\\AppData\\Local\\Temp\\ipykernel_11660\\864585716.py:1: DeprecationWarning: executable_path has been deprecated, please pass in a Service object\n",
      "  driver = webdriver.Chrome(executable_path= './ignore/chromedriver.exe', options=chrome_options)\n"
     ]
    },
    {
     "name": "stdout",
     "output_type": "stream",
     "text": [
      "Fuck\n",
      "Dois homens presos se reúnem ao longo de vários anos, encontrando consolo e eventual redenção através de atos de decência comum.\n",
      "https://m.media-amazon.com/images/M/MV5BNjQ2NDA3MDcxMF5BMl5BanBnXkFtZTgwMjE5NTU0NzE@._V1_QL75_UX500_CR0,47,500,281_.jpg\n"
     ]
    }
   ],
   "source": [
    "driver = webdriver.Chrome(executable_path= './ignore/chromedriver.exe', options=chrome_options)\n",
    "id= 'tt0111161'\n",
    "driver.get(f\"https://www.imdb.com/title/{id}\") #Idiota principal\n",
    "print('Fuck')                       \n",
    "testo = driver.find_element(By.XPATH,'/html/body/div[2]/main/div/section[1]/section/div[3]/section/section/div[3]/div[2]/div[1]/section/p/span[1]').text\n",
    "print(testo)\n",
    "\n",
    "#df.loc[indice, 'img_link'] = src_valu\n",
    "\n",
    "driver.close()\n"
   ]
  },
  {
   "cell_type": "code",
   "execution_count": 31,
   "metadata": {},
   "outputs": [
    {
     "name": "stderr",
     "output_type": "stream",
     "text": [
      "C:\\Users\\berna\\AppData\\Local\\Temp\\ipykernel_11660\\1013545355.py:1: DeprecationWarning: executable_path has been deprecated, please pass in a Service object\n",
      "  driver = webdriver.Chrome(executable_path= './ignore/chromedriver.exe', options=chrome_options)\n"
     ]
    }
   ],
   "source": [
    "driver = webdriver.Chrome(executable_path= './ignore/chromedriver.exe', options=chrome_options)\n",
    "\n",
    "for indice, linha in df.iterrows():\n",
    "    id = linha['tconst']\n",
    "    driver.get(f\"https://www.imdb.com/title/{id}\") #Idiota principal\n",
    "    testo_description = driver.find_element(By.XPATH,'/html/body/div[2]/main/div/section[1]/section/div[3]/section/section/div[3]/div[2]/div[1]/section/p/span[1]').text\n",
    "    df.loc[indice, 'descrption'] = testo_description\n",
    "    # Vamos para a imagem \n",
    "    src = driver.find_element(By.XPATH,'/html/body/div[2]/main/div/section[1]/section/div[3]/section/section/div[3]/div[1]/div[2]/div[2]/div[1]/img')\n",
    "    src_value = src.get_attribute('src')\n",
    "    df.loc[indice, 'img_link'] = src_value\n",
    "\n",
    "driver.close()\n",
    "\n",
    "#entrar no site do DF e coletar a descrição\n",
    "#driver = webdriver.Chrome(executable_path= './ignore/chromedriver.exe', options=chrome_options)\n",
    "\n",
    "#entrar no site da imagem e coletar a imagem."
   ]
  },
  {
   "cell_type": "code",
   "execution_count": null,
   "metadata": {},
   "outputs": [],
   "source": [
    "df.to_csv(\"Filmes_Prontos.csv\", index=False)\n"
   ]
  }
 ],
 "metadata": {
  "kernelspec": {
   "display_name": "Python 3",
   "language": "python",
   "name": "python3"
  },
  "language_info": {
   "codemirror_mode": {
    "name": "ipython",
    "version": 3
   },
   "file_extension": ".py",
   "mimetype": "text/x-python",
   "name": "python",
   "nbconvert_exporter": "python",
   "pygments_lexer": "ipython3",
   "version": "3.10.7"
  },
  "orig_nbformat": 4
 },
 "nbformat": 4,
 "nbformat_minor": 2
}
